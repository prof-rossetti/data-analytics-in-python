{
  "nbformat": 4,
  "nbformat_minor": 0,
  "metadata": {
    "colab": {
      "name": "Python Datatypes",
      "provenance": [],
      "authorship_tag": "ABX9TyPyJrb4Sf92a3Lz6vq1uggJ",
      "include_colab_link": true
    },
    "kernelspec": {
      "name": "python3",
      "display_name": "Python 3"
    }
  },
  "cells": [
    {
      "cell_type": "markdown",
      "metadata": {
        "id": "view-in-github",
        "colab_type": "text"
      },
      "source": [
        "<a href=\"https://colab.research.google.com/github/prof-rossetti/data-analytics-in-python/blob/main/notebooks/unit-1/Python_Datatypes.ipynb\" target=\"_parent\"><img src=\"https://colab.research.google.com/assets/colab-badge.svg\" alt=\"Open In Colab\"/></a>"
      ]
    },
    {
      "cell_type": "markdown",
      "metadata": {
        "id": "S-JKOpkHSpfB"
      },
      "source": [
        "# Exercise 1\n",
        "\n",
        "Given the Python variable called `gradebook` provided below, write Python code which references that variable to perform each of the following tasks...\n",
        "\n",
        "A) Print the date this data was downloaded.\n",
        "\n",
        "B) Print the number of students in the gradebook.\n",
        "\n",
        "C) Loop through each student and print their grade, each on a new line.\n",
        "\n",
        "C) Print the average grade.\n",
        "\n",
        "D) Print the median grade.\n",
        "\n"
      ]
    },
    {
      "cell_type": "code",
      "metadata": {
        "id": "7mLcsfnESwG1"
      },
      "source": [
        "gradebook = {\n",
        "  \"downloadDate\": \"2018-06-05\",\n",
        "  \"professorId\": 123,\n",
        "  \"students\":[\n",
        "    {\"studentId\": 1, \"finalGrade\": 76.7},\n",
        "    {\"studentId\": 2, \"finalGrade\": 85.1},\n",
        "    {\"studentId\": 3, \"finalGrade\": 50.3},\n",
        "    {\"studentId\": 4, \"finalGrade\": 89.8},\n",
        "    {\"studentId\": 5, \"finalGrade\": 97.4},\n",
        "    {\"studentId\": 6, \"finalGrade\": 75.5},\n",
        "    {\"studentId\": 7, \"finalGrade\": 87.2},\n",
        "    {\"studentId\": 8, \"finalGrade\": 88.0},\n",
        "    {\"studentId\": 9, \"finalGrade\": 93.9},\n",
        "    {\"studentId\": 10, \"finalGrade\": 92.5}\n",
        "  ]\n",
        "}\n",
        "\n",
        "print(\"------------------\")\n",
        "print(\"PROCESSING GRADEBOOK DATA...\")\n",
        "print(\"------------------\")\n",
        "\n"
      ],
      "execution_count": null,
      "outputs": []
    },
    {
      "cell_type": "markdown",
      "metadata": {
        "id": "-uRFHQMYRkpb"
      },
      "source": [
        "\n",
        "# Exercise 2\n",
        "\n",
        "Given the Python variable called `trip` provided below, write Python code which references that variable to perform each of the following tasks...\n",
        "\n",
        "A) Print a human-friendly message to denote the driver’s first name (i.e. `“Your driver is Danny\"`).\n",
        "\n",
        "B) Assuming stops can get added or removed at any time, print the number of stops this trip makes (i.e. `3`).\n",
        "\n",
        "C) Assuming the stops will always be listed in ascending order of their stop sequence, print the destination of the FIRST stop (i.e. `Madison Square”`).\n",
        "\n",
        "D) Assuming the stops will always be listed in ascending order of their stop sequence, print the destination of the LAST stop (i.e. `“Washington Square”`).\n",
        "\n",
        "E) Loop through each of the trip’s stops and print that stop’s passenger name, one at a time (i.e. `“Vishal”`, then `“Clara”`, then `“Lee”`, each on a separate line):\n",
        "\n"
      ]
    },
    {
      "cell_type": "code",
      "metadata": {
        "id": "MSyUjpWA-11o",
        "outputId": "8d214365-6f03-4ab1-9078-b18ba3778796",
        "colab": {
          "base_uri": "https://localhost:8080/"
        }
      },
      "source": [
        "\n",
        "trip = {\n",
        "    \"driver\": {\n",
        "        \"first_name\": \"Danny\",\n",
        "        \"last_name\": \"Dreyfus\",\n",
        "        \"avg_rating\": 3.6,\n",
        "        \"total_rides\": 950\n",
        "    },\n",
        "    \"vehicle\": {\n",
        "        \"make\": \"Tesla\",\n",
        "        \"model\": \"Cybertruck\",\n",
        "        \"year\": 2021,\n",
        "        \"color\": \"silver\"\n",
        "    },\n",
        "    \"rideshare\": True,\n",
        "    \"pickup_location\": \"Grand Central Terminal\",\n",
        "    \"stops\": [\n",
        "        {\"sequence\": 1, \"passenger\": \"Vishal\", \"destination\": \"Madison Square\", \"fare\": 3.99},\n",
        "        {\"sequence\": 2, \"passenger\": \"Clara\", \"destination\": \"Union Square\", \"fare\": 5.99},\n",
        "        {\"sequence\": 3, \"passenger\": \"Lee\", \"destination\": \"Washington Square\", \"fare\": 7.99}\n",
        "    ]\n",
        "}\n",
        "\n",
        "print(\"------------------\")\n",
        "print(\"PROCESSING RIDESHARE DATA...\")\n",
        "print(\"------------------\")\n",
        "\n",
        "#\n",
        "# PART A\n",
        "#\n",
        "\n",
        "print(\"Your driver's name is\", trip[\"driver\"][\"first_name\"])\n",
        "\n",
        "print(len(trip[\"stops\"]))\n",
        "\n",
        "print(trip[\"stops\"][0][\"destination\"])\n",
        "\n",
        "print(trip[\"stops\"][-1][\"destination\"])\n",
        "\n",
        "for stop in trip[\"stops\"]:\n",
        "  print(stop[\"passenger\"])\n"
      ],
      "execution_count": 1,
      "outputs": [
        {
          "output_type": "stream",
          "text": [
            "------------------\n",
            "PROCESSING RIDESHARE DATA...\n",
            "------------------\n",
            "Your driver's name is Danny\n",
            "3\n",
            "Madison Square\n",
            "Washington Square\n",
            "Vishal\n",
            "Clara\n",
            "Lee\n"
          ],
          "name": "stdout"
        }
      ]
    },
    {
      "cell_type": "markdown",
      "metadata": {
        "id": "qHWXSX8iRkBU"
      },
      "source": [
        "### Exercise 3\n",
        "\n",
        "Given the Python variable called `tweets` provided below, write Python code which references that variable to perform each of the following tasks...\n",
        "\n",
        "A) Print the screen name of the user who authored the first tweet (i.e. `“sandwhoa”`).\n",
        "\n",
        "\n",
        "B) Of all the tweets which include the phrase `“@sandwhoa”` in their full text, print the screen name of the user who authored that tweet, each on a separate line (i.e. `“person2”`, then `“person3”`).\n",
        "\n",
        "C) Of all the tweets which include the phrase `“@sandwhoa”` in their full text, determine which tweet has the greatest number of likes, and then print the screen name of the user who authored that tweet (i.e. `“person3”`). FYI: Assume the tweet order can change at any time and has no relationship with the number of likes.\n"
      ]
    },
    {
      "cell_type": "code",
      "metadata": {
        "id": "nY7zZDCm-8OD",
        "outputId": "30c4491a-1361-467d-c205-846004bad55e",
        "colab": {
          "base_uri": "https://localhost:8080/"
        }
      },
      "source": [
        "\n",
        "tweets = [\n",
        "    {\n",
        "        \"id\": 100200297,\n",
        "        \"full_text\": \"Look at this delicious sandwich!\",\n",
        "        \"img_url\": \"https://sandwhoa.com/sandwich.png\",\n",
        "        \"user\": {\"screen_name\": \"sandwhoa\", \"followers\": 5000},\n",
        "        \"likes_count\": 150\n",
        "    },\n",
        "    {\n",
        "        \"id\": 100200298,\n",
        "        \"full_text\": \"I love sandwiches\",\n",
        "        \"img_url\": None,\n",
        "        \"user\": {\"screen_name\": \"person1\", \"followers\": 100},\n",
        "        \"likes_count\": 5\n",
        "    },\n",
        "    {\n",
        "        \"id\": 100200299,\n",
        "        \"full_text\": \"@sandwhoa yumm...\",\n",
        "        \"img_url\": None,\n",
        "        \"user\": {\"screen_name\": \"person2\", \"followers\": 200},\n",
        "        \"likes_count\": 10\n",
        "    },\n",
        "    {\n",
        "        \"id\": 100200300,\n",
        "        \"full_text\": \"@sandwhoa that sandwich looks amazing!!\",\n",
        "        \"img_url\": None,\n",
        "        \"user\": {\"screen_name\": \"person3\", \"followers\": 300},\n",
        "        \"likes_count\": 35\n",
        "    },\n",
        "    {\n",
        "        \"id\": 100200301,\n",
        "        \"full_text\": \"I ate a great sandwich today\",\n",
        "        \"img_url\": None,\n",
        "        \"user\": {\"screen_name\": \"person4\", \"followers\": 400},\n",
        "        \"likes_count\": 50\n",
        "    }\n",
        "]\n",
        "\n",
        "print(\"------------------\")\n",
        "print(\"PROCESSING SOCIAL MEDIA DATA...\")\n",
        "print(\"------------------\")\n",
        "\n",
        "print(tweets[0][\"user\"][\"screen_name\"])\n",
        "\n",
        "matching_tweets = [t for t in tweets if \"@sandwhoa\" in t[\"full_text\"]]\n",
        "\n",
        "for t in matching_tweets:\n",
        "  print(t[\"user\"][\"screen_name\"])\n",
        "\n",
        "from operator import itemgetter\n",
        "\n",
        "sorted_matching_tweets = sorted(matching_tweets, key=itemgetter(\"likes_count\"), reverse=True)\n",
        "most_liked_tweet = sorted_matching_tweets[0]\n",
        "print(most_liked_tweet[\"user\"][\"screen_name\"])\n"
      ],
      "execution_count": 3,
      "outputs": [
        {
          "output_type": "stream",
          "text": [
            "------------------\n",
            "PROCESSING SOCIAL MEDIA DATA...\n",
            "------------------\n",
            "sandwhoa\n",
            "person2\n",
            "person3\n",
            "person3\n"
          ],
          "name": "stdout"
        }
      ]
    }
  ]
}