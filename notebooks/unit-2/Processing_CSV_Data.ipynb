{
  "nbformat": 4,
  "nbformat_minor": 0,
  "metadata": {
    "colab": {
      "name": "Processing CSV Data",
      "provenance": [],
      "authorship_tag": "ABX9TyO+GfjfldUxt1T/cuUjNhJ2",
      "include_colab_link": true
    },
    "kernelspec": {
      "name": "python3",
      "display_name": "Python 3"
    }
  },
  "cells": [
    {
      "cell_type": "markdown",
      "metadata": {
        "id": "view-in-github",
        "colab_type": "text"
      },
      "source": [
        "<a href=\"https://colab.research.google.com/github/prof-rossetti/data-analytics-in-python/blob/main/notebooks/unit-2/Processing_CSV_Data.ipynb\" target=\"_parent\"><img src=\"https://colab.research.google.com/assets/colab-badge.svg\" alt=\"Open In Colab\"/></a>"
      ]
    },
    {
      "cell_type": "markdown",
      "metadata": {
        "id": "tvwsARJ1Eym-"
      },
      "source": [
        "# Setup"
      ]
    },
    {
      "cell_type": "code",
      "metadata": {
        "id": "nGbRcwzl_ar0"
      },
      "source": [
        "#\n",
        "# SETUP\n",
        "#\n",
        "\n",
        "import os\n",
        "from statistics import mean, median\n",
        "from pandas import read_csv #, DataFrame\n",
        "\n",
        "# DOWNLOAD FILES\n",
        "\n",
        "CSV_FILES = [\n",
        "    {\"filepath\": \"gradebook.csv\", \"url\": \"https://raw.githubusercontent.com/prof-rossetti/intro-to-python/master/data/gradebook.csv\"},\n",
        "    {\"filepath\": \"products.csv\", \"url\": \"https://raw.githubusercontent.com/prof-rossetti/intro-to-python/master/data/products.csv\"},\n",
        "    {\"filepath\": \"albums.csv\", \"url\": \"https://gist.githubusercontent.com/s2t2/f2b01347c06258cad28e7331f1e9320f/raw/b61ea33cd18aaadf885eb04544d921c9d9445e21/albums.csv\"}\n",
        "]\n",
        "for csv_file in CSV_FILES:\n",
        "    if not os.path.isfile(csv_file[\"filepath\"]):\n",
        "        print(\"DOWNLOADING\", csv_file[\"filepath\"])\n",
        "        url = csv_file[\"url\"]\n",
        "        !wget -q $url \n",
        "\n",
        "# HERE IS A PRICE FORMATTING FUNCTION FOR YOU TO USE LATER\n",
        "\n",
        "def to_usd(my_price):\n",
        "    \"\"\"\n",
        "    Converts a numeric value to usd-formatted string, for printing and display purposes.\n",
        "    \n",
        "    Param: my_price (int or float) like 4000.444444\n",
        "    \n",
        "    Example: to_usd(4000.444444)\n",
        "    \n",
        "    Returns: $4,000.44\n",
        "    \"\"\"\n",
        "    return f\"${my_price:,.2f}\" #> $12,000.71\n"
      ],
      "execution_count": 42,
      "outputs": []
    },
    {
      "cell_type": "markdown",
      "metadata": {
        "id": "5b06VpNVE4C5"
      },
      "source": [
        "# Exercise 1 (Gradebook)"
      ]
    },
    {
      "cell_type": "markdown",
      "metadata": {
        "id": "20nwP1b_FNGe"
      },
      "source": [
        "\n",
        "Given the provided \"gradebook.csv\" file, write Python code to read the CSV data and perform each of the following tasks...\n",
        "\n",
        "A) Print the number of students (rows).\n",
        "\n",
        "B) Print the number of students (rows).\n",
        "\n",
        "C) Print the average grade.\n",
        "\n",
        "D) Print the median grade.\n",
        "\n",
        "E) Create another column on the DataFrame called \"letter_grade\", and use a custom function to assign each numeric score a corresponding letter grade.\n",
        "\n",
        "F) Print the percentage of students who got each grade."
      ]
    },
    {
      "cell_type": "code",
      "metadata": {
        "id": "2Xm_a4xF_Nwh",
        "outputId": "93ad93f5-2bab-4464-f807-2f88eea1eb95",
        "colab": {
          "base_uri": "https://localhost:8080/"
        }
      },
      "source": [
        "\n",
        "#\n",
        "# GRADEBOOK\n",
        "#\n",
        "\n",
        "df = read_csv(\"gradebook.csv\")\n",
        "print(df.head())\n",
        "\n",
        "print(\"ROWS:\", len(df))\n",
        "print(\"COLUMNS:\", df.columns.tolist())\n",
        "\n",
        "print(\"MEAN:\", df[\"final_grade\"].mean())\n",
        "print(\"MEAN:\", mean(df[\"final_grade\"]))\n",
        "\n",
        "print(\"MEDIAN:\", df[\"final_grade\"].median())\n",
        "print(\"MEDIAN:\", median(df[\"final_grade\"]))\n",
        "\n",
        "print(\"LETTER GRADES...\")\n",
        "\n",
        "def calculate_grade(score):\n",
        "    if score >= 75.0:\n",
        "        grade = \"Pass\"\n",
        "    else:\n",
        "        grade = \"Fail\"\n",
        "    return grade\n",
        "\n",
        "df[\"letter_grade\"] = df[\"final_grade\"].map(calculate_grade)\n",
        "\n",
        "print(df.head())\n",
        "\n",
        "print(df[\"letter_grade\"].value_counts())\n",
        "print(df[\"letter_grade\"].value_counts(normalize=True))"
      ],
      "execution_count": 44,
      "outputs": [
        {
          "output_type": "stream",
          "text": [
            "   student_id  final_grade\n",
            "0           1         76.7\n",
            "1           2         85.1\n",
            "2           3         50.3\n",
            "3           4         89.8\n",
            "4           5         97.4\n",
            "ROWS: 10\n",
            "COLUMNS: ['student_id', 'final_grade']\n",
            "MEAN: 83.64000000000001\n",
            "MEAN: 83.64\n",
            "MEDIAN: 87.6\n",
            "MEDIAN: 87.6\n",
            "LETTER GRADES...\n",
            "   student_id  final_grade letter_grade\n",
            "0           1         76.7         Pass\n",
            "1           2         85.1         Pass\n",
            "2           3         50.3         Fail\n",
            "3           4         89.8         Pass\n",
            "4           5         97.4         Pass\n",
            "Pass    9\n",
            "Fail    1\n",
            "Name: letter_grade, dtype: int64\n",
            "Pass    0.9\n",
            "Fail    0.1\n",
            "Name: letter_grade, dtype: float64\n"
          ],
          "name": "stdout"
        }
      ]
    },
    {
      "cell_type": "markdown",
      "metadata": {
        "id": "Erj3QCpkFBx0"
      },
      "source": [
        "# Exercise 2 (Products)\n",
        "\n",
        "Given the provided \"products.csv\" file, write Python code to read the CSV data and perform each of the following tasks...\n",
        "\n",
        "A) Print the number of products (rows).\n",
        "\n",
        "B) Loop through each of the rows and print the name and price of each. Use the provided `to_usd` function to format prices as USD with dollar sign and two decimal places.\n"
      ]
    },
    {
      "cell_type": "code",
      "metadata": {
        "id": "9XzkP4dG_m4l",
        "outputId": "7ae91498-1e4a-43e6-bd1a-db36e1048bd2",
        "colab": {
          "base_uri": "https://localhost:8080/"
        }
      },
      "source": [
        "#\n",
        "# PRODUCTS\n",
        "#\n",
        "\n",
        "df = read_csv(\"products.csv\")\n",
        "print(len(df))\n",
        "print(df.head())\n",
        "\n",
        "for index, row in df.iterrows():\n",
        "    print(row[\"name\"], to_usd(row[\"price\"]))"
      ],
      "execution_count": 45,
      "outputs": [
        {
          "output_type": "stream",
          "text": [
            "20\n",
            "   id                                               name  ... department price\n",
            "0   1                         Chocolate Sandwich Cookies  ...     snacks  3.50\n",
            "1   2                                   All-Seasons Salt  ...     pantry  4.99\n",
            "2   3               Robust Golden Unsweetened Oolong Tea  ...  beverages  2.49\n",
            "3   4  Smart Ones Classic Favorites Mini Rigatoni Wit...  ...     frozen  6.99\n",
            "4   5                          Green Chile Anytime Sauce  ...     pantry  7.99\n",
            "\n",
            "[5 rows x 5 columns]\n",
            "Chocolate Sandwich Cookies $3.50\n",
            "All-Seasons Salt $4.99\n",
            "Robust Golden Unsweetened Oolong Tea $2.49\n",
            "Smart Ones Classic Favorites Mini Rigatoni With Vodka Cream Sauce $6.99\n",
            "Green Chile Anytime Sauce $7.99\n",
            "Dry Nose Oil $21.99\n",
            "Pure Coconut Water With Orange $3.50\n",
            "Cut Russet Potatoes Steam N' Mash $4.25\n",
            "Light Strawberry Blueberry Yogurt $6.50\n",
            "Sparkling Orange Juice & Prickly Pear Beverage $2.99\n",
            "Peach Mango Juice $1.99\n",
            "Chocolate Fudge Layer Cake $18.50\n",
            "Saline Nasal Mist $16.00\n",
            "Fresh Scent Dishwasher Cleaner $4.99\n",
            "Overnight Diapers Size 6 $25.50\n",
            "Mint Chocolate Flavored Syrup $4.50\n",
            "Rendered Duck Fat $9.99\n",
            "Pizza for One Suprema  Frozen Pizza $12.50\n",
            "Gluten Free Quinoa Three Cheese & Mushroom Blend $3.99\n",
            "Pomegranate Cranberry & Aloe Vera Enrich Drink $4.25\n"
          ],
          "name": "stdout"
        }
      ]
    },
    {
      "cell_type": "markdown",
      "metadata": {
        "id": "T3pog_lUEnH9"
      },
      "source": [
        "# Exercise 3: Albums"
      ]
    },
    {
      "cell_type": "markdown",
      "metadata": {
        "id": "p1YRvNq9D-0B"
      },
      "source": [
        "\n",
        "Given the provided \"albums.csv\" file, write Python code to read the CSV data and perform each of the following tasks...\n",
        "\n",
        "> artist_id | artist_name | album_id | album_title\n",
        "> --- | ---  | ---  | --- \n",
        "> 1 | AC/DC | 1 | For Those About To Rock We Salute You\n",
        "> 1 | AC/DC | 4 | Let There Be Rock\n",
        "> 3 | Aerosmith | 5 | Big Ones\n",
        "> 4 | Alanis Morissette | 6 | Jagged Little Pill\n",
        "> 68 | Miles Davis | 48 | The Essential Miles Davis [Disc 1]\n",
        "> 68 | Miles Davis | 49 | The Essential Miles Davis [Disc 2]\n",
        "> 59 | Santana | 197 | Santana - As Years Go By\n",
        "> 59 | Santana | 198 | Santana Live\n",
        "\n",
        "\n",
        "\n",
        "A) \"Print\" a list of the CSV file's column names (i.e. `['artist_id', 'artist_name', 'album_id', 'album_title']`).\n",
        "\n",
        "B) \"Print\" the number of rows in the CSV file, excluding the header row (i.e. `347`).\n",
        "\n",
        "C) Assuming each \"artist_id\" represents a unique artist, \"print\" the number of unique artists (i.e. `204`).\n",
        "\n",
        "D) Assuming each \"album_id\" represents a unique album, identify which five artists have the most albums, then loop through each of the top five artists and “print” that artist's name and corresponding album count, one at a time, each on a separate line. FYI: the following table depicts the correct top five artists and their corresponding album counts...\n",
        "\n",
        "| artist_name   | album_count |\n",
        "|---------------|----------|\n",
        "| Iron Maiden   | 21       |\n",
        "| Led Zeppelin  | 14       |\n",
        "| Deep Purple   | 11       |\n",
        "| Metallica     | 10       |\n",
        "| U2            | 10       |\n"
      ]
    },
    {
      "cell_type": "code",
      "metadata": {
        "id": "QDzPKrLGdJZj",
        "outputId": "2d1a3479-b868-4b48-cffc-eb3819a9bf49",
        "colab": {
          "base_uri": "https://localhost:8080/"
        }
      },
      "source": [
        "\n",
        "#\n",
        "# QUESTION 3 (ALBUMS)\n",
        "#\n",
        "\n",
        "df = read_csv(\"albums.csv\")\n",
        "print(len(df))\n",
        "print(df.head())\n",
        "\n",
        "# PART A\n",
        "\n",
        "print(\"COLS:\", df.columns.tolist())\n",
        "\n",
        "# PART B\n",
        "\n",
        "print(\"ROWS:\", len(df))\n",
        "\n",
        "# PART C\n",
        "\n",
        "rows = df.to_dict(\"records\")\n",
        "artist_ids = list(set([row[\"artist_id\"] for row in rows]))\n",
        "print(\"ARTIST COUNT:\", len(artist_ids))\n",
        "\n",
        "# PART D\n",
        "#\n",
        "# Assuming each \"album_id\" represents a unique album,\n",
        "# identify which five artists have the most albums,\n",
        "# then loop through each of the top five artists\n",
        "# and “print” that artist's name and corresponding album count\n",
        "#\n",
        "# see:\n",
        "# ... https://github.com/prof-rossetti/intro-to-python/blob/master/exercises/monthly-sales-reporting/pandas_solution_further.py\n",
        "# ... https://pandas.pydata.org/pandas-docs/stable/reference/api/pandas.DataFrame.groupby.html\n",
        "# ... https://realpython.com/pandas-groupby/\n",
        "# ... https://stackoverflow.com/a/38309823/670433\n",
        "\n",
        "#album_counts_by_artist = df.groupby([\"artist_id\", \"artist_name\"])[\"album_id\"].count()\n",
        "album_counts_by_artist = df.groupby([\"artist_id\", \"artist_name\"])[\"album_id\"].nunique() # same answer as count(), but being safe about counting unique vals only\n",
        "#print(type(album_counts_by_artist)) #> <class 'pandas.core.series.Series'>\n",
        "\n",
        "# sorting a pandas series\n",
        "# see: https://pandas.pydata.org/pandas-docs/stable/reference/api/pandas.Series.sort_values.html\n",
        "top_artists = album_counts_by_artist.sort_values(ascending=False)\n",
        "#print(type(top_artists)) #> <class 'pandas.core.series.Series'>\n",
        "\n",
        "top_artists = top_artists[0:5] # take top five items from a list\n",
        "\n",
        "# looping through a pandas series\n",
        "# see: https://pandas.pydata.org/pandas-docs/stable/reference/api/pandas.Series.iteritems.html\n",
        "for top_artist in top_artists.iteritems():\n",
        "    #print(type(top_artist)) #> <class 'tuple'>\n",
        "    #print(top_artist) #> ((90, 'Iron Maiden'), 21)\n",
        "    print(\"ARTIST:\", top_artist[0][1], \"ALBUMS:\", top_artist[1])\n"
      ],
      "execution_count": 11,
      "outputs": [
        {
          "output_type": "stream",
          "text": [
            "347\n",
            "   artist_id artist_name  album_id                            album_title\n",
            "0          1       AC/DC         1  For Those About To Rock We Salute You\n",
            "1          2      Accept         2                      Balls to the Wall\n",
            "2          2      Accept         3                      Restless and Wild\n",
            "3          1       AC/DC         4                      Let There Be Rock\n",
            "4          3   Aerosmith         5                               Big Ones\n",
            "COLS: ['artist_id', 'artist_name', 'album_id', 'album_title']\n",
            "ROWS: 347\n",
            "ARTIST COUNT: 204\n",
            "ARTIST: Iron Maiden ALBUMS: 21\n",
            "ARTIST: Led Zeppelin ALBUMS: 14\n",
            "ARTIST: Deep Purple ALBUMS: 11\n",
            "ARTIST: U2 ALBUMS: 10\n",
            "ARTIST: Metallica ALBUMS: 10\n"
          ],
          "name": "stdout"
        }
      ]
    }
  ]
}