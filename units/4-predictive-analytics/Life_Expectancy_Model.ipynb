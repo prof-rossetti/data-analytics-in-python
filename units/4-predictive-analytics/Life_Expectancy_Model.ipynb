{
  "nbformat": 4,
  "nbformat_minor": 0,
  "metadata": {
    "colab": {
      "name": "Life Expectancy Model",
      "provenance": [],
      "collapsed_sections": [],
      "authorship_tag": "ABX9TyP3EZdLya629lQ213EXq0TT",
      "include_colab_link": true
    },
    "kernelspec": {
      "name": "python3",
      "display_name": "Python 3"
    }
  },
  "cells": [
    {
      "cell_type": "markdown",
      "metadata": {
        "id": "view-in-github",
        "colab_type": "text"
      },
      "source": [
        "<a href=\"https://colab.research.google.com/github/prof-rossetti/data-analytics-in-python/blob/main/units/4-predictive-analytics/Life_Expectancy_Model.ipynb\" target=\"_parent\"><img src=\"https://colab.research.google.com/assets/colab-badge.svg\" alt=\"Open In Colab\"/></a>"
      ]
    },
    {
      "cell_type": "code",
      "metadata": {
        "id": "Rv8q7cwLhNTD",
        "outputId": "8074e8c7-df4a-434d-ae33-48787df52ecb",
        "colab": {
          "base_uri": "https://localhost:8080/"
        }
      },
      "source": [
        "import os\n",
        "\n",
        "from pandas import read_csv\n",
        "\n",
        "csv_filename = \"life_expectancies.csv\"\n",
        "\n",
        "if not os.path.isfile(csv_filename):\n",
        "    print(\"DOWNLOADING CSV...\")\n",
        "    !wget -q https://raw.githubusercontent.com/prof-rossetti/data-analytics-in-python/main/units/4-predictive-analytics/data/life_expectancies.csv\n",
        "\n",
        "df = read_csv(csv_filename)\n",
        "print(\"ROWS:\", len(df))\n",
        "print(\"COLS:\", df.columns.tolist())\n",
        "print(df.head())\n",
        "\n",
        "# looks like:\n",
        "#  \"Country\" is the row id\n",
        "#  \"LifeExpectancy\" is the target variable\n",
        "#  \"DoctorsPer100K\"is the feature\n"
      ],
      "execution_count": 1,
      "outputs": [
        {
          "output_type": "stream",
          "text": [
            "DOWNLOADING CSV...\n",
            "ROWS: 175\n",
            "COLS: ['Country', 'LifeExpectancy', 'DoctorsPer100K']\n",
            "         Country  LifeExpectancy  DoctorsPer100K\n",
            "0   Afghanistan             60.5             2.7\n",
            "1       Albania             77.8            11.5\n",
            "2       Algeria             75.6            12.1\n",
            "3        Angola             52.4             1.7\n",
            "4     Argentina             76.3            38.6\n"
          ],
          "name": "stdout"
        }
      ]
    },
    {
      "cell_type": "code",
      "metadata": {
        "id": "Iw7o3FJUjQEn",
        "outputId": "b73764e1-c353-4fcc-f696-082f20b585be",
        "colab": {
          "base_uri": "https://localhost:8080/"
        }
      },
      "source": [
        "\n",
        "for col in df.columns.tolist():\n",
        "    print(\"\")\n",
        "    print(\"------------\")\n",
        "    print(\"COL: \", col.upper())\n",
        "    print(\"------------\")\n",
        "    print(sorted(list(set(df[col].tolist()))))\n",
        "    print(df[col].describe())\n",
        "    #print(df[col].value_counts(normalize=True))\n",
        "\n",
        "# in terms of describing the variables, looks like:\n",
        "#   \"LifeExpectancy\" is continuous decimal from 50.1 to 83.7, with a mean of 71.3\n",
        "#   \"DoctorsPer100K\" is continuous decimal from 0.1 to 54.0, with a mean of 15.4\n",
        "\n",
        "# doesn't look like there are any null values in any of the columns. that's good. so we don't need to \"impute any missing values\n",
        "\n",
        "# although we might consider scaling the values between 0 and 1\n"
      ],
      "execution_count": 4,
      "outputs": [
        {
          "output_type": "stream",
          "text": [
            "\n",
            "------------\n",
            "COL:  COUNTRY\n",
            "------------\n",
            "[' Afghanistan ', ' Albania ', ' Algeria ', ' Angola ', ' Argentina ', ' Armenia ', ' Australia ', ' Austria ', ' Azerbaijan ', ' Bahamas ', ' Bahrain ', ' Bangladesh ', ' Belarus ', ' Belgium ', ' Belize ', ' Benin ', ' Bhutan ', ' Bolivia ', ' Bosnia and Herzegovina ', ' Botswana ', ' Brazil ', ' Brunei ', ' Bulgaria ', ' Burkina Faso ', ' Burundi ', ' Cambodia ', ' Cameroon ', ' Canada ', ' Cape Verde ', ' Central African Republic ', ' Chad ', ' Chile ', ' China ', ' Colombia ', ' Comoros ', ' Costa Rica ', ' Croatia ', ' Cyprus ', ' Czech Republic ', ' DR Congo ', ' Denmark ', ' Djibouti ', ' Dominican Republic ', ' Ecuador ', ' Egypt ', ' El Salvador ', ' Equatorial Guinea ', ' Eritrea ', ' Estonia ', ' Ethiopia ', ' Fiji ', ' Finland ', ' France ', ' Gabon ', ' Gambia ', ' Georgia ', ' Germany ', ' Ghana ', ' Greece ', ' Guatemala ', ' Guinea ', ' Guinea-Bissau ', ' Guyana ', ' Honduras ', ' Hungary ', ' Iceland ', ' India ', ' Indonesia ', ' Iran ', ' Iraq ', ' Ireland ', ' Israel ', ' Italy ', ' Ivory Coast ', ' Jamaica ', ' Japan ', ' Jordan ', ' Kazakhstan ', ' Kenya ', ' Kiribati ', ' Kuwait ', ' Kyrgyzstan ', ' Laos ', ' Latvia ', ' Lebanon ', ' Lesotho ', ' Liberia ', ' Libya ', ' Lithuania ', ' Luxembourg ', ' Macedonia ', ' Madagascar ', ' Malawi ', ' Malaysia ', ' Maldives ', ' Mali ', ' Malta ', ' Mauritania ', ' Mauritius ', ' Mexico ', ' Micronesia ', ' Moldova ', ' Mongolia ', ' Montenegro ', ' Morocco ', ' Mozambique ', ' Myanmar ', ' Namibia ', ' Nepal ', ' Netherlands ', ' New Zealand ', ' Nicaragua ', ' Niger ', ' Nigeria ', ' North Korea ', ' Norway ', ' Oman ', ' Pakistan ', ' Panama ', ' Papua New Guinea ', ' Paraguay ', ' Peru ', ' Philippines ', ' Poland ', ' Portugal ', ' Romania ', ' Russia ', ' Rwanda ', ' Saint Lucia ', ' Saint Vincent and the Grenadines ', ' Samoa ', ' Sao Tome and Principe ', ' Saudi Arabia ', ' Senegal ', ' Serbia ', ' Seychelles ', ' Sierra Leone ', ' Singapore ', ' Slovakia ', ' Slovenia ', ' Solomon Islands ', ' Somalia ', ' South Africa ', ' South Korea ', ' Spain ', ' Sri Lanka ', ' Sudan ', ' Suriname ', ' Swaziland ', ' Sweden ', ' Switzerland ', ' Syria ', ' Tajikistan ', ' Tanzania ', ' Thailand ', ' Timor-Leste ', ' Togo ', ' Tonga ', ' Trinidad and Tobago ', ' Tunisia ', ' Turkey ', ' Turkmenistan ', ' Uganda ', ' Ukraine ', ' United Arab Emirates ', ' United Kingdom ', ' United States ', ' Uruguay ', ' Uzbekistan ', ' Vanuatu ', ' Venezuela ', ' Vietnam ', ' Yemen ', ' Zambia ', ' Zimbabwe ']\n",
            "count          175\n",
            "unique         175\n",
            "top        Turkey \n",
            "freq             1\n",
            "Name: Country, dtype: object\n",
            "\n",
            "------------\n",
            "COL:  LIFEEXPECTANCY\n",
            "------------\n",
            "[50.1, 52.4, 52.5, 53.1, 53.3, 53.7, 54.5, 55.0, 57.3, 57.6, 58.2, 58.3, 58.9, 59.0, 59.6, 59.8, 59.9, 60.0, 60.5, 60.7, 61.1, 61.4, 61.8, 62.3, 62.4, 62.9, 63.1, 63.4, 63.5, 64.1, 64.5, 64.7, 64.8, 65.5, 65.7, 65.8, 66.0, 66.1, 66.2, 66.3, 66.4, 66.6, 66.7, 67.5, 68.3, 68.5, 68.7, 68.8, 68.9, 69.1, 69.2, 69.4, 69.7, 69.8, 69.9, 70.1, 70.2, 70.5, 70.6, 70.7, 70.9, 71.1, 71.2, 71.3, 71.6, 71.8, 71.9, 72.0, 72.1, 72.3, 72.7, 73.2, 73.3, 73.5, 73.6, 73.9, 74.0, 74.1, 74.3, 74.4, 74.5, 74.6, 74.7, 74.8, 74.9, 75.0, 75.2, 75.3, 75.5, 75.6, 75.7, 75.8, 75.9, 76.0, 76.1, 76.2, 76.3, 76.6, 76.7, 76.9, 77.0, 77.1, 77.4, 77.5, 77.6, 77.7, 77.8, 78.0, 78.5, 78.8, 79.3, 79.6, 80.5, 80.6, 80.8, 81.0, 81.1, 81.2, 81.4, 81.5, 81.6, 81.7, 81.8, 81.9, 82.0, 82.2, 82.3, 82.4, 82.5, 82.7, 82.8, 83.1, 83.4, 83.7]\n",
            "count    175.000000\n",
            "mean      71.299429\n",
            "std        7.998746\n",
            "min       50.100000\n",
            "25%       65.750000\n",
            "50%       73.300000\n",
            "75%       76.700000\n",
            "max       83.700000\n",
            "Name: LifeExpectancy, dtype: float64\n",
            "\n",
            "------------\n",
            "COL:  DOCTORSPER100K\n",
            "------------\n",
            "[0.1, 0.2, 0.3, 0.4, 0.5, 0.6, 0.7, 0.8, 1.0, 1.1, 1.2, 1.3, 1.4, 1.6, 1.7, 1.8, 2.0, 2.1, 2.2, 2.6, 2.7, 2.8, 3.0, 3.1, 3.6, 3.7, 3.8, 3.9, 4.0, 4.1, 4.3, 4.5, 4.7, 5.0, 5.6, 6.0, 6.1, 6.2, 6.8, 7.0, 7.8, 8.0, 8.3, 9.0, 9.2, 9.3, 10.2, 10.7, 11.0, 11.1, 11.3, 11.5, 11.8, 11.9, 12.0, 12.1, 12.2, 12.3, 14.2, 14.4, 14.6, 14.7, 14.9, 16.0, 16.5, 17.1, 17.2, 17.9, 18.9, 19.0, 19.2, 19.3, 19.5, 19.7, 20.7, 21.0, 21.1, 21.4, 22.2, 23.0, 23.3, 24.0, 24.3, 24.5, 24.9, 25.2, 25.3, 25.6, 26.2, 26.7, 27.0, 27.4, 28.1, 28.2, 28.3, 28.4, 29.0, 29.1, 29.8, 29.9, 30.8, 31.9, 32.0, 32.4, 32.7, 33.0, 33.2, 33.4, 34.0, 34.8, 34.9, 35.4, 35.8, 36.2, 37.4, 37.6, 38.6, 38.7, 38.9, 39.0, 39.3, 40.5, 41.0, 41.2, 42.7, 42.8, 43.0, 48.3, 49.5, 54.0]\n",
            "count    175.000000\n",
            "mean      15.464571\n",
            "std       14.104177\n",
            "min        0.100000\n",
            "25%        2.000000\n",
            "50%       11.800000\n",
            "75%       26.850000\n",
            "max       54.000000\n",
            "Name: DoctorsPer100K, dtype: float64\n"
          ],
          "name": "stdout"
        }
      ]
    },
    {
      "cell_type": "code",
      "metadata": {
        "id": "Sltw43LtRCF0",
        "outputId": "f19aa697-11b0-47e4-cfea-bf157b66cd53",
        "colab": {
          "base_uri": "https://localhost:8080/",
          "height": 542
        }
      },
      "source": [
        "import plotly.express as px\n",
        "\n",
        "px.scatter(df, x='DoctorsPer100K', y='LifeExpectancy', trendline=\"ols\" \n",
        "    #, color=\"LifeExpectancy\", \n",
        ")\n"
      ],
      "execution_count": 35,
      "outputs": [
        {
          "output_type": "display_data",
          "data": {
            "text/html": [
              "<html>\n",
              "<head><meta charset=\"utf-8\" /></head>\n",
              "<body>\n",
              "    <div>\n",
              "            <script src=\"https://cdnjs.cloudflare.com/ajax/libs/mathjax/2.7.5/MathJax.js?config=TeX-AMS-MML_SVG\"></script><script type=\"text/javascript\">if (window.MathJax) {MathJax.Hub.Config({SVG: {font: \"STIX-Web\"}});}</script>\n",
              "                <script type=\"text/javascript\">window.PlotlyConfig = {MathJaxConfig: 'local'};</script>\n",
              "        <script src=\"https://cdn.plot.ly/plotly-latest.min.js\"></script>    \n",
              "            <div id=\"1a292595-848d-4ba1-bf3d-eaaaced79b04\" class=\"plotly-graph-div\" style=\"height:525px; width:100%;\"></div>\n",
              "            <script type=\"text/javascript\">\n",
              "                \n",
              "                    window.PLOTLYENV=window.PLOTLYENV || {};\n",
              "                    \n",
              "                if (document.getElementById(\"1a292595-848d-4ba1-bf3d-eaaaced79b04\")) {\n",
              "                    Plotly.newPlot(\n",
              "                        '1a292595-848d-4ba1-bf3d-eaaaced79b04',\n",
              "                        [{\"hoverlabel\": {\"namelength\": 0}, \"hovertemplate\": \"DoctorsPer100K=%{x}<br>LifeExpectancy=%{y}\", \"legendgroup\": \"\", \"marker\": {\"color\": \"#636efa\", \"symbol\": \"circle\"}, \"mode\": \"markers\", \"name\": \"\", \"showlegend\": false, \"type\": \"scatter\", \"x\": [2.7, 11.5, 12.1, 1.7, 38.6, 27.0, 32.7, 48.3, 34.0, 28.2, 9.2, 3.6, 39.3, 29.9, 8.3, 0.6, 2.6, 4.7, 19.3, 4.0, 18.9, 14.4, 38.7, 0.5, 0.5, 1.7, 0.8, 20.7, 3.1, 0.5, 0.5, 10.2, 14.9, 14.7, 2.0, 11.1, 28.4, 23.3, 36.2, 34.9, 2.0, 14.9, 1.0, 17.2, 28.3, 16.0, 3.0, 1.0, 32.4, 0.3, 4.3, 29.1, 31.9, 3.0, 1.1, 42.7, 38.9, 1.0, 54.0, 9.3, 1.0, 0.7, 2.1, 6.0, 30.8, 34.8, 7.0, 2.0, 9.0, 6.1, 26.7, 33.4, 37.6, 1.4, 4.1, 23.0, 25.6, 36.2, 2.0, 3.8, 17.9, 19.7, 1.8, 35.8, 32.0, 1.0, 0.1, 19.0, 41.2, 29.0, 26.2, 1.6, 0.2, 12.0, 14.2, 0.8, 34.9, 1.3, 11.0, 21.0, 1.8, 29.8, 28.4, 21.1, 6.2, 0.4, 6.1, 3.7, 2.0, 39.0, 27.4, 9.0, 0.2, 4.1, 33.0, 42.8, 24.3, 8.3, 16.5, 0.6, 12.3, 11.3, 12.0, 22.2, 41.0, 24.5, 43.0, 0.6, 1.1, 8.0, 4.5, 5.0, 24.9, 0.6, 21.1, 10.7, 0.2, 19.5, 33.2, 25.2, 2.2, 0.5, 7.8, 21.4, 49.5, 6.8, 2.8, 5.0, 1.7, 39.3, 40.5, 14.6, 19.2, 0.3, 3.9, 0.7, 0.5, 5.6, 11.8, 12.2, 17.1, 24.0, 1.0, 35.4, 25.3, 28.1, 24.5, 37.4, 25.3, 1.2, 19.0, 11.9, 2.0, 1.7, 0.8], \"xaxis\": \"x\", \"y\": [60.5, 77.8, 75.6, 52.4, 76.3, 74.8, 82.8, 81.5, 72.7, 76.1, 76.9, 71.8, 72.3, 81.1, 70.1, 60.0, 69.8, 70.7, 77.4, 65.7, 75.0, 77.7, 74.5, 59.9, 59.6, 68.7, 57.3, 82.2, 73.3, 52.5, 53.1, 80.5, 76.1, 74.8, 63.5, 79.6, 78.0, 80.5, 78.8, 80.6, 63.5, 73.9, 59.8, 76.2, 70.9, 73.5, 58.2, 64.7, 77.6, 64.8, 69.9, 81.1, 82.4, 66.0, 61.1, 74.4, 81.0, 62.4, 81.0, 71.9, 59.0, 58.9, 66.2, 74.6, 75.9, 82.7, 68.3, 69.1, 75.5, 68.9, 81.4, 82.5, 82.7, 53.3, 76.2, 83.7, 74.1, 70.2, 63.4, 66.3, 74.7, 71.1, 65.7, 74.6, 74.9, 53.7, 61.4, 72.7, 73.6, 82.0, 75.7, 65.5, 58.3, 75.0, 78.5, 58.2, 81.7, 63.1, 74.6, 76.7, 69.4, 72.1, 68.8, 76.1, 74.3, 57.6, 66.6, 65.8, 69.2, 81.9, 81.6, 74.8, 61.8, 54.5, 70.6, 81.8, 76.6, 66.4, 77.8, 62.9, 74.0, 75.5, 68.5, 77.5, 81.1, 75.0, 70.5, 66.1, 75.2, 73.2, 74.0, 67.5, 74.5, 66.7, 75.6, 73.2, 50.1, 83.1, 76.7, 80.8, 69.2, 55.0, 62.9, 82.3, 82.8, 74.9, 64.1, 71.6, 58.9, 82.4, 83.4, 64.5, 69.7, 61.8, 74.9, 68.3, 59.9, 73.5, 71.2, 75.3, 75.8, 66.3, 62.3, 71.3, 77.1, 81.2, 79.3, 77.0, 69.4, 72.0, 74.1, 76.0, 65.7, 61.8, 60.7], \"yaxis\": \"y\"}, {\"hoverlabel\": {\"namelength\": 0}, \"hovertemplate\": \"<b>OLS trendline</b><br>LifeExpectancy = 0.404411 * DoctorsPer100K + 65.045381<br>R<sup>2</sup>=0.508509<br><br>DoctorsPer100K=%{x}<br>LifeExpectancy=%{y} <b>(trend)</b>\", \"legendgroup\": \"\", \"marker\": {\"color\": \"#636efa\", \"symbol\": \"circle\"}, \"mode\": \"lines\", \"name\": \"\", \"showlegend\": false, \"type\": \"scatter\", \"x\": [0.1, 0.2, 0.2, 0.2, 0.3, 0.3, 0.4, 0.5, 0.5, 0.5, 0.5, 0.5, 0.5, 0.6, 0.6, 0.6, 0.6, 0.7, 0.7, 0.8, 0.8, 0.8, 1.0, 1.0, 1.0, 1.0, 1.0, 1.0, 1.1, 1.1, 1.2, 1.3, 1.4, 1.6, 1.7, 1.7, 1.7, 1.7, 1.8, 1.8, 2.0, 2.0, 2.0, 2.0, 2.0, 2.0, 2.1, 2.2, 2.6, 2.7, 2.8, 3.0, 3.0, 3.1, 3.6, 3.7, 3.8, 3.9, 4.0, 4.1, 4.1, 4.3, 4.5, 4.7, 5.0, 5.0, 5.6, 6.0, 6.1, 6.1, 6.2, 6.8, 7.0, 7.8, 8.0, 8.3, 8.3, 9.0, 9.0, 9.2, 9.3, 10.2, 10.7, 11.0, 11.1, 11.3, 11.5, 11.8, 11.9, 12.0, 12.0, 12.1, 12.2, 12.3, 14.2, 14.4, 14.6, 14.7, 14.9, 14.9, 16.0, 16.5, 17.1, 17.2, 17.9, 18.9, 19.0, 19.0, 19.2, 19.3, 19.5, 19.7, 20.7, 21.0, 21.1, 21.1, 21.4, 22.2, 23.0, 23.3, 24.0, 24.3, 24.5, 24.5, 24.9, 25.2, 25.3, 25.3, 25.6, 26.2, 26.7, 27.0, 27.4, 28.1, 28.2, 28.3, 28.4, 28.4, 29.0, 29.1, 29.8, 29.9, 30.8, 31.9, 32.0, 32.4, 32.7, 33.0, 33.2, 33.4, 34.0, 34.8, 34.9, 34.9, 35.4, 35.8, 36.2, 36.2, 37.4, 37.6, 38.6, 38.7, 38.9, 39.0, 39.3, 39.3, 40.5, 41.0, 41.2, 42.7, 42.8, 43.0, 48.3, 49.5, 54.0], \"xaxis\": \"x\", \"y\": [65.08582224358935, 65.12626337373557, 65.12626337373557, 65.12626337373557, 65.1667045038818, 65.1667045038818, 65.20714563402804, 65.24758676417427, 65.24758676417427, 65.24758676417427, 65.24758676417427, 65.24758676417427, 65.24758676417427, 65.28802789432049, 65.28802789432049, 65.28802789432049, 65.28802789432049, 65.32846902446673, 65.32846902446673, 65.36891015461296, 65.36891015461296, 65.36891015461296, 65.44979241490542, 65.44979241490542, 65.44979241490542, 65.44979241490542, 65.44979241490542, 65.44979241490542, 65.49023354505165, 65.49023354505165, 65.53067467519789, 65.57111580534412, 65.61155693549034, 65.69243919578281, 65.73288032592905, 65.73288032592905, 65.73288032592905, 65.73288032592905, 65.77332145607527, 65.77332145607527, 65.85420371636773, 65.85420371636773, 65.85420371636773, 65.85420371636773, 65.85420371636773, 65.85420371636773, 65.89464484651397, 65.93508597666019, 66.09685049724511, 66.13729162739135, 66.17773275753758, 66.25861501783004, 66.25861501783004, 66.29905614797627, 66.50126179870743, 66.54170292885365, 66.58214405899989, 66.62258518914612, 66.66302631929236, 66.70346744943858, 66.70346744943858, 66.78434970973105, 66.8652319700235, 66.94611423031597, 67.06743762075466, 67.06743762075466, 67.31008440163205, 67.47184892221696, 67.5122900523632, 67.5122900523632, 67.55273118250943, 67.79537796338681, 67.87626022367928, 68.19978926484913, 68.28067152514159, 68.40199491558029, 68.40199491558029, 68.6850828266039, 68.6850828266039, 68.76596508689636, 68.80640621704259, 69.17037638835868, 69.37258203908982, 69.49390542952852, 69.53434655967474, 69.61522881996721, 69.69611108025967, 69.81743447069836, 69.8578756008446, 69.89831673099083, 69.89831673099083, 69.93875786113706, 69.97919899128328, 70.01964012142952, 70.7880215942079, 70.86890385450037, 70.94978611479283, 70.99022724493906, 71.07110950523152, 71.07110950523152, 71.51596193684007, 71.71816758757122, 71.96081436844861, 72.00125549859483, 72.28434340961846, 72.68875471108076, 72.729195841227, 72.729195841227, 72.81007810151945, 72.85051923166569, 72.93140149195816, 73.01228375225061, 73.41669505371291, 73.53801844415162, 73.57845957429784, 73.57845957429784, 73.69978296473653, 74.02331200590638, 74.34684104707623, 74.46816443751493, 74.75125234853854, 74.87257573897723, 74.95345799926969, 74.95345799926969, 75.11522251985463, 75.23654591029332, 75.27698704043954, 75.27698704043954, 75.39831043087824, 75.64095721175562, 75.84316286248678, 75.96448625292547, 76.12625077351039, 76.409338684534, 76.44977981468024, 76.49022094482648, 76.5306620749727, 76.5306620749727, 76.77330885585009, 76.81374998599632, 77.09683789701994, 77.13727902716616, 77.50124919848224, 77.94610163009078, 77.98654276023701, 78.14830728082194, 78.26963067126063, 78.39095406169932, 78.47183632199179, 78.55271858228426, 78.79536536316164, 79.11889440433148, 79.15933553447772, 79.15933553447772, 79.36154118520886, 79.52330570579379, 79.68507022637871, 79.68507022637871, 80.17036378813349, 80.25124604842595, 80.65565734988826, 80.6960984800345, 80.77698074032695, 80.81742187047318, 80.93874526091187, 80.93874526091187, 81.42403882266665, 81.6262444733978, 81.70712673369027, 82.31374368588374, 82.35418481602996, 82.43506707632243, 84.57844697407266, 85.06374053582743, 86.88359139240782], \"yaxis\": \"y\"}],\n",
              "                        {\"legend\": {\"tracegroupgap\": 0}, \"margin\": {\"t\": 60}, \"template\": {\"data\": {\"bar\": [{\"error_x\": {\"color\": \"#2a3f5f\"}, \"error_y\": {\"color\": \"#2a3f5f\"}, \"marker\": {\"line\": {\"color\": \"#E5ECF6\", \"width\": 0.5}}, \"type\": \"bar\"}], \"barpolar\": [{\"marker\": {\"line\": {\"color\": \"#E5ECF6\", \"width\": 0.5}}, \"type\": \"barpolar\"}], \"carpet\": [{\"aaxis\": {\"endlinecolor\": \"#2a3f5f\", \"gridcolor\": \"white\", \"linecolor\": \"white\", \"minorgridcolor\": \"white\", \"startlinecolor\": \"#2a3f5f\"}, \"baxis\": {\"endlinecolor\": \"#2a3f5f\", \"gridcolor\": \"white\", \"linecolor\": \"white\", \"minorgridcolor\": \"white\", \"startlinecolor\": \"#2a3f5f\"}, \"type\": \"carpet\"}], \"choropleth\": [{\"colorbar\": {\"outlinewidth\": 0, \"ticks\": \"\"}, \"type\": \"choropleth\"}], \"contour\": [{\"colorbar\": {\"outlinewidth\": 0, \"ticks\": \"\"}, \"colorscale\": [[0.0, \"#0d0887\"], [0.1111111111111111, \"#46039f\"], [0.2222222222222222, \"#7201a8\"], [0.3333333333333333, \"#9c179e\"], [0.4444444444444444, \"#bd3786\"], [0.5555555555555556, \"#d8576b\"], [0.6666666666666666, \"#ed7953\"], [0.7777777777777778, \"#fb9f3a\"], [0.8888888888888888, \"#fdca26\"], [1.0, \"#f0f921\"]], \"type\": \"contour\"}], \"contourcarpet\": [{\"colorbar\": {\"outlinewidth\": 0, \"ticks\": \"\"}, \"type\": \"contourcarpet\"}], \"heatmap\": [{\"colorbar\": {\"outlinewidth\": 0, \"ticks\": \"\"}, \"colorscale\": [[0.0, \"#0d0887\"], [0.1111111111111111, \"#46039f\"], [0.2222222222222222, \"#7201a8\"], [0.3333333333333333, \"#9c179e\"], [0.4444444444444444, \"#bd3786\"], [0.5555555555555556, \"#d8576b\"], [0.6666666666666666, \"#ed7953\"], [0.7777777777777778, \"#fb9f3a\"], [0.8888888888888888, \"#fdca26\"], [1.0, \"#f0f921\"]], \"type\": \"heatmap\"}], \"heatmapgl\": [{\"colorbar\": {\"outlinewidth\": 0, \"ticks\": \"\"}, \"colorscale\": [[0.0, \"#0d0887\"], [0.1111111111111111, \"#46039f\"], [0.2222222222222222, \"#7201a8\"], [0.3333333333333333, \"#9c179e\"], [0.4444444444444444, \"#bd3786\"], [0.5555555555555556, \"#d8576b\"], [0.6666666666666666, \"#ed7953\"], [0.7777777777777778, \"#fb9f3a\"], [0.8888888888888888, \"#fdca26\"], [1.0, \"#f0f921\"]], \"type\": \"heatmapgl\"}], \"histogram\": [{\"marker\": {\"colorbar\": {\"outlinewidth\": 0, \"ticks\": \"\"}}, \"type\": \"histogram\"}], \"histogram2d\": [{\"colorbar\": {\"outlinewidth\": 0, \"ticks\": \"\"}, \"colorscale\": [[0.0, \"#0d0887\"], [0.1111111111111111, \"#46039f\"], [0.2222222222222222, \"#7201a8\"], [0.3333333333333333, \"#9c179e\"], [0.4444444444444444, \"#bd3786\"], [0.5555555555555556, \"#d8576b\"], [0.6666666666666666, \"#ed7953\"], [0.7777777777777778, \"#fb9f3a\"], [0.8888888888888888, \"#fdca26\"], [1.0, \"#f0f921\"]], \"type\": \"histogram2d\"}], \"histogram2dcontour\": [{\"colorbar\": {\"outlinewidth\": 0, \"ticks\": \"\"}, \"colorscale\": [[0.0, \"#0d0887\"], [0.1111111111111111, \"#46039f\"], [0.2222222222222222, \"#7201a8\"], [0.3333333333333333, \"#9c179e\"], [0.4444444444444444, \"#bd3786\"], [0.5555555555555556, \"#d8576b\"], [0.6666666666666666, \"#ed7953\"], [0.7777777777777778, \"#fb9f3a\"], [0.8888888888888888, \"#fdca26\"], [1.0, \"#f0f921\"]], \"type\": \"histogram2dcontour\"}], \"mesh3d\": [{\"colorbar\": {\"outlinewidth\": 0, \"ticks\": \"\"}, \"type\": \"mesh3d\"}], \"parcoords\": [{\"line\": {\"colorbar\": {\"outlinewidth\": 0, \"ticks\": \"\"}}, \"type\": \"parcoords\"}], \"pie\": [{\"automargin\": true, \"type\": \"pie\"}], \"scatter\": [{\"marker\": {\"colorbar\": {\"outlinewidth\": 0, \"ticks\": \"\"}}, \"type\": \"scatter\"}], \"scatter3d\": [{\"line\": {\"colorbar\": {\"outlinewidth\": 0, \"ticks\": \"\"}}, \"marker\": {\"colorbar\": {\"outlinewidth\": 0, \"ticks\": \"\"}}, \"type\": \"scatter3d\"}], \"scattercarpet\": [{\"marker\": {\"colorbar\": {\"outlinewidth\": 0, \"ticks\": \"\"}}, \"type\": \"scattercarpet\"}], \"scattergeo\": [{\"marker\": {\"colorbar\": {\"outlinewidth\": 0, \"ticks\": \"\"}}, \"type\": \"scattergeo\"}], \"scattergl\": [{\"marker\": {\"colorbar\": {\"outlinewidth\": 0, \"ticks\": \"\"}}, \"type\": \"scattergl\"}], \"scattermapbox\": [{\"marker\": {\"colorbar\": {\"outlinewidth\": 0, \"ticks\": \"\"}}, \"type\": \"scattermapbox\"}], \"scatterpolar\": [{\"marker\": {\"colorbar\": {\"outlinewidth\": 0, \"ticks\": \"\"}}, \"type\": \"scatterpolar\"}], \"scatterpolargl\": [{\"marker\": {\"colorbar\": {\"outlinewidth\": 0, \"ticks\": \"\"}}, \"type\": \"scatterpolargl\"}], \"scatterternary\": [{\"marker\": {\"colorbar\": {\"outlinewidth\": 0, \"ticks\": \"\"}}, \"type\": \"scatterternary\"}], \"surface\": [{\"colorbar\": {\"outlinewidth\": 0, \"ticks\": \"\"}, \"colorscale\": [[0.0, \"#0d0887\"], [0.1111111111111111, \"#46039f\"], [0.2222222222222222, \"#7201a8\"], [0.3333333333333333, \"#9c179e\"], [0.4444444444444444, \"#bd3786\"], [0.5555555555555556, \"#d8576b\"], [0.6666666666666666, \"#ed7953\"], [0.7777777777777778, \"#fb9f3a\"], [0.8888888888888888, \"#fdca26\"], [1.0, \"#f0f921\"]], \"type\": \"surface\"}], \"table\": [{\"cells\": {\"fill\": {\"color\": \"#EBF0F8\"}, \"line\": {\"color\": \"white\"}}, \"header\": {\"fill\": {\"color\": \"#C8D4E3\"}, \"line\": {\"color\": \"white\"}}, \"type\": \"table\"}]}, \"layout\": {\"annotationdefaults\": {\"arrowcolor\": \"#2a3f5f\", \"arrowhead\": 0, \"arrowwidth\": 1}, \"coloraxis\": {\"colorbar\": {\"outlinewidth\": 0, \"ticks\": \"\"}}, \"colorscale\": {\"diverging\": [[0, \"#8e0152\"], [0.1, \"#c51b7d\"], [0.2, \"#de77ae\"], [0.3, \"#f1b6da\"], [0.4, \"#fde0ef\"], [0.5, \"#f7f7f7\"], [0.6, \"#e6f5d0\"], [0.7, \"#b8e186\"], [0.8, \"#7fbc41\"], [0.9, \"#4d9221\"], [1, \"#276419\"]], \"sequential\": [[0.0, \"#0d0887\"], [0.1111111111111111, \"#46039f\"], [0.2222222222222222, \"#7201a8\"], [0.3333333333333333, \"#9c179e\"], [0.4444444444444444, \"#bd3786\"], [0.5555555555555556, \"#d8576b\"], [0.6666666666666666, \"#ed7953\"], [0.7777777777777778, \"#fb9f3a\"], [0.8888888888888888, \"#fdca26\"], [1.0, \"#f0f921\"]], \"sequentialminus\": [[0.0, \"#0d0887\"], [0.1111111111111111, \"#46039f\"], [0.2222222222222222, \"#7201a8\"], [0.3333333333333333, \"#9c179e\"], [0.4444444444444444, \"#bd3786\"], [0.5555555555555556, \"#d8576b\"], [0.6666666666666666, \"#ed7953\"], [0.7777777777777778, \"#fb9f3a\"], [0.8888888888888888, \"#fdca26\"], [1.0, \"#f0f921\"]]}, \"colorway\": [\"#636efa\", \"#EF553B\", \"#00cc96\", \"#ab63fa\", \"#FFA15A\", \"#19d3f3\", \"#FF6692\", \"#B6E880\", \"#FF97FF\", \"#FECB52\"], \"font\": {\"color\": \"#2a3f5f\"}, \"geo\": {\"bgcolor\": \"white\", \"lakecolor\": \"white\", \"landcolor\": \"#E5ECF6\", \"showlakes\": true, \"showland\": true, \"subunitcolor\": \"white\"}, \"hoverlabel\": {\"align\": \"left\"}, \"hovermode\": \"closest\", \"mapbox\": {\"style\": \"light\"}, \"paper_bgcolor\": \"white\", \"plot_bgcolor\": \"#E5ECF6\", \"polar\": {\"angularaxis\": {\"gridcolor\": \"white\", \"linecolor\": \"white\", \"ticks\": \"\"}, \"bgcolor\": \"#E5ECF6\", \"radialaxis\": {\"gridcolor\": \"white\", \"linecolor\": \"white\", \"ticks\": \"\"}}, \"scene\": {\"xaxis\": {\"backgroundcolor\": \"#E5ECF6\", \"gridcolor\": \"white\", \"gridwidth\": 2, \"linecolor\": \"white\", \"showbackground\": true, \"ticks\": \"\", \"zerolinecolor\": \"white\"}, \"yaxis\": {\"backgroundcolor\": \"#E5ECF6\", \"gridcolor\": \"white\", \"gridwidth\": 2, \"linecolor\": \"white\", \"showbackground\": true, \"ticks\": \"\", \"zerolinecolor\": \"white\"}, \"zaxis\": {\"backgroundcolor\": \"#E5ECF6\", \"gridcolor\": \"white\", \"gridwidth\": 2, \"linecolor\": \"white\", \"showbackground\": true, \"ticks\": \"\", \"zerolinecolor\": \"white\"}}, \"shapedefaults\": {\"line\": {\"color\": \"#2a3f5f\"}}, \"ternary\": {\"aaxis\": {\"gridcolor\": \"white\", \"linecolor\": \"white\", \"ticks\": \"\"}, \"baxis\": {\"gridcolor\": \"white\", \"linecolor\": \"white\", \"ticks\": \"\"}, \"bgcolor\": \"#E5ECF6\", \"caxis\": {\"gridcolor\": \"white\", \"linecolor\": \"white\", \"ticks\": \"\"}}, \"title\": {\"x\": 0.05}, \"xaxis\": {\"automargin\": true, \"gridcolor\": \"white\", \"linecolor\": \"white\", \"ticks\": \"\", \"title\": {\"standoff\": 15}, \"zerolinecolor\": \"white\", \"zerolinewidth\": 2}, \"yaxis\": {\"automargin\": true, \"gridcolor\": \"white\", \"linecolor\": \"white\", \"ticks\": \"\", \"title\": {\"standoff\": 15}, \"zerolinecolor\": \"white\", \"zerolinewidth\": 2}}}, \"xaxis\": {\"anchor\": \"y\", \"domain\": [0.0, 1.0], \"title\": {\"text\": \"DoctorsPer100K\"}}, \"yaxis\": {\"anchor\": \"x\", \"domain\": [0.0, 1.0], \"title\": {\"text\": \"LifeExpectancy\"}}},\n",
              "                        {\"responsive\": true}\n",
              "                    ).then(function(){\n",
              "                            \n",
              "var gd = document.getElementById('1a292595-848d-4ba1-bf3d-eaaaced79b04');\n",
              "var x = new MutationObserver(function (mutations, observer) {{\n",
              "        var display = window.getComputedStyle(gd).display;\n",
              "        if (!display || display === 'none') {{\n",
              "            console.log([gd, 'removed!']);\n",
              "            Plotly.purge(gd);\n",
              "            observer.disconnect();\n",
              "        }}\n",
              "}});\n",
              "\n",
              "// Listen for the removal of the full notebook cells\n",
              "var notebookContainer = gd.closest('#notebook-container');\n",
              "if (notebookContainer) {{\n",
              "    x.observe(notebookContainer, {childList: true});\n",
              "}}\n",
              "\n",
              "// Listen for the clearing of the current output cell\n",
              "var outputEl = gd.closest('.output');\n",
              "if (outputEl) {{\n",
              "    x.observe(outputEl, {childList: true});\n",
              "}}\n",
              "\n",
              "                        })\n",
              "                };\n",
              "                \n",
              "            </script>\n",
              "        </div>\n",
              "</body>\n",
              "</html>"
            ]
          },
          "metadata": {
            "tags": []
          }
        }
      ]
    },
    {
      "cell_type": "code",
      "metadata": {
        "id": "mq71u639lhem",
        "outputId": "484838ed-f737-43e6-c4b6-b6ab522fe59e",
        "colab": {
          "base_uri": "https://localhost:8080/"
        }
      },
      "source": [
        "\n",
        "from pprint import pprint\n",
        "from pdb import  set_trace as breakpoint\n",
        "\n",
        "import numpy as np\n",
        "from sklearn.model_selection import train_test_split\n",
        "from sklearn.linear_model import  LinearRegression, LogisticRegression, Ridge, Lasso\n",
        "from sklearn.pipeline import  Pipeline\n",
        "from sklearn.metrics import r2_score, mean_absolute_error, mean_squared_error\n",
        "\n",
        "#\n",
        "# TEST/TRAIN SPLIT\n",
        "#\n",
        "\n",
        "df_train, df_test = train_test_split(df, test_size=0.2, random_state=99)\n",
        "print(\"TEST TRAIN SPLIT:\", len(df_train), len(df_test))\n",
        "\n",
        "features = \"DoctorsPer100K\"\n",
        "target = \"LifeExpectancy\"\n",
        "\n",
        "x_train = np.array(df_train[features]).reshape((-1, 1)) # reshape to avoid fit error. the model wants this shape\n",
        "y_train = df_train[target] # np.array(df_train[target]).reshape((-1, 1))\n",
        "print(\"TRAIN:\", x_train.shape, y_train.shape) #> (140, 1) (140,)\n",
        "\n",
        "x_test = np.array(df_test[features]).reshape((-1, 1)) # reshape to avoid fit error. the model wants this shape\n",
        "y_test = df_test[target] # np.array(df_test[target]).reshape((-1, 1))\n",
        "print(\"TEST:\", x_test.shape, y_test.shape)\n"
      ],
      "execution_count": 43,
      "outputs": [
        {
          "output_type": "stream",
          "text": [
            "TEST TRAIN SPLIT: 140 35\n",
            "TRAIN: (140, 1) (140,)\n",
            "TEST: (35, 1) (35,)\n"
          ],
          "name": "stdout"
        }
      ]
    },
    {
      "cell_type": "code",
      "metadata": {
        "id": "ZU9rqTeV8Qpg",
        "outputId": "971a3bcb-3d83-4df0-8ab0-a214bff6b290",
        "colab": {
          "base_uri": "https://localhost:8080/"
        }
      },
      "source": [
        "\n",
        "#\n",
        "# MODEL TRAINING\n",
        "#\n",
        "\n",
        "model = LinearRegression()\n",
        "model.fit(x_train, y_train) \n",
        "\n",
        "#\n",
        "# MODEL EVALUATION\n",
        "#\n",
        "\n",
        "print(\"------------------\")\n",
        "print(\"TRAINING SCORES...\")\n",
        "print(\"------------------\")\n",
        "y_train_pred = model.predict(x_train)\n",
        "print(\"R^2 SCORE:\", r2_score(y_train, y_train_pred))\n",
        "print(\"MEAN ABS ERR:\", mean_absolute_error(y_train, y_train_pred))\n",
        "print(\"MEAN SQ ERR:\", mean_squared_error(y_train, y_train_pred))\n",
        "\n",
        "print(\"------------------\")\n",
        "print(\"TESTING SCORES...\")\n",
        "print(\"------------------\")\n",
        "y_test_pred = model.predict(x_test)\n",
        "print(\"R^2 SCORE:\", r2_score(y_test, y_test_pred))\n",
        "print(\"MEAN ABS ERR:\", mean_absolute_error(y_test, y_test_pred))\n",
        "print(\"MEAN SQ ERR:\", mean_squared_error(y_test, y_test_pred))\n"
      ],
      "execution_count": 45,
      "outputs": [
        {
          "output_type": "stream",
          "text": [
            "------------------\n",
            "TRAINING SCORES...\n",
            "------------------\n",
            "R^2 SCORE: 0.49340903444718687\n",
            "MEAN ABS ERR: 4.800109230130603\n",
            "MEAN SQ ERR: 33.851248587233364\n",
            "------------------\n",
            "TESTING SCORES...\n",
            "------------------\n",
            "R^2 SCORE: 0.49340903444718687\n",
            "MEAN ABS ERR: 4.800109230130603\n",
            "MEAN SQ ERR: 33.851248587233364\n"
          ],
          "name": "stdout"
        }
      ]
    },
    {
      "cell_type": "code",
      "metadata": {
        "id": "Hj5Hj-bCJWw9",
        "outputId": "2a81117d-01c4-4638-a6f9-141dc3c1a99f",
        "colab": {
          "base_uri": "https://localhost:8080/"
        }
      },
      "source": [
        "\n",
        "print(\"------------------\")\n",
        "print(\"MODEL PREDICTIONS...\")\n",
        "print(\"------------------\")\n",
        "\n",
        "\n",
        "pred = model.predict([[10.2]])\n",
        "print(pred) #> [69.13009545]\n",
        "\n",
        "preds = model.predict([ [1.8], [10.2], [49.5] ])\n",
        "print(preds) #> [65.75206424 69.13009545 84.93445578]\n",
        "\n"
      ],
      "execution_count": 50,
      "outputs": [
        {
          "output_type": "stream",
          "text": [
            "------------------\n",
            "MODEL PREDICTIONS...\n",
            "------------------\n",
            "[69.13009545]\n",
            "[65.75206424 69.13009545 84.93445578]\n"
          ],
          "name": "stdout"
        }
      ]
    }
  ]
}